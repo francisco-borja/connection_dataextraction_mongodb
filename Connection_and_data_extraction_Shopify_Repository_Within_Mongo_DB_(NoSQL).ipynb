{
  "nbformat": 4,
  "nbformat_minor": 0,
  "metadata": {
    "colab": {
      "provenance": []
    },
    "kernelspec": {
      "name": "python3",
      "display_name": "Python 3"
    },
    "language_info": {
      "name": "python"
    }
  },
  "cells": [
    {
      "cell_type": "markdown",
      "source": [
        "This program was created with the goal of connecting to a MongoDB repository (NoSQL database) and being able to extract the data using Mongo DB Pipeline/aggregation language, for subsequent manipulation.\n"
      ],
      "metadata": {
        "id": "PTClgqihJ-7X"
      }
    },
    {
      "cell_type": "markdown",
      "source": [
        "![Logo](https://upload.wikimedia.org/wikipedia/commons/thumb/9/93/MongoDB_Logo.svg/2560px-MongoDB_Logo.svg.png)\n",
        "\n"
      ],
      "metadata": {
        "id": "AakwlKKnPubB"
      }
    },
    {
      "cell_type": "code",
      "source": [
        "!pip install pymongo\n"
      ],
      "metadata": {
        "colab": {
          "base_uri": "https://localhost:8080/"
        },
        "id": "2tkMKHe2KwX-",
        "outputId": "dfb5044c-427e-4f6a-dd16-39b7b1d0f475"
      },
      "execution_count": null,
      "outputs": [
        {
          "output_type": "stream",
          "name": "stdout",
          "text": [
            "Collecting pymongo\n",
            "  Downloading pymongo-4.8.0-cp310-cp310-manylinux_2_17_x86_64.manylinux2014_x86_64.whl (1.2 MB)\n",
            "\u001b[2K     \u001b[90m━━━━━━━━━━━━━━━━━━━━━━━━━━━━━━━━━━━━━━━━\u001b[0m \u001b[32m1.2/1.2 MB\u001b[0m \u001b[31m9.3 MB/s\u001b[0m eta \u001b[36m0:00:00\u001b[0m\n",
            "\u001b[?25hCollecting dnspython<3.0.0,>=1.16.0 (from pymongo)\n",
            "  Downloading dnspython-2.6.1-py3-none-any.whl (307 kB)\n",
            "\u001b[2K     \u001b[90m━━━━━━━━━━━━━━━━━━━━━━━━━━━━━━━━━━━━━━━━\u001b[0m \u001b[32m307.7/307.7 kB\u001b[0m \u001b[31m17.3 MB/s\u001b[0m eta \u001b[36m0:00:00\u001b[0m\n",
            "\u001b[?25hInstalling collected packages: dnspython, pymongo\n",
            "Successfully installed dnspython-2.6.1 pymongo-4.8.0\n"
          ]
        }
      ]
    },
    {
      "cell_type": "code",
      "source": [
        "# Importing the neccesary python modules\n",
        "import pymongo\n",
        "import pandas as pd\n",
        "from pymongo import MongoClient\n",
        "from pandas import DataFrame\n"
      ],
      "metadata": {
        "id": "9sVV7fH5KjW8"
      },
      "execution_count": 19,
      "outputs": []
    },
    {
      "cell_type": "code",
      "source": [
        "#Connecting To Google Drive\n",
        "from google.colab import drive\n",
        "drive.mount('/content/drive')"
      ],
      "metadata": {
        "colab": {
          "base_uri": "https://localhost:8080/"
        },
        "id": "pG8DpHHNWWtn",
        "outputId": "ec51922c-e0eb-4bd5-e3b3-51e93fada01c"
      },
      "execution_count": 20,
      "outputs": [
        {
          "output_type": "stream",
          "name": "stdout",
          "text": [
            "Mounted at /content/drive\n"
          ]
        }
      ]
    },
    {
      "cell_type": "code",
      "source": [
        "#Getting connection string from Google Drive file\n",
        "%cd /content/drive/MyDrive/MongoDB_connectionstring\n",
        "with open('mongo_db_connection_string.txt', 'r') as file:\n",
        "    connection_string = file.read().strip()\n"
      ],
      "metadata": {
        "colab": {
          "base_uri": "https://localhost:8080/"
        },
        "id": "gBR6eJV6W42q",
        "outputId": "e81f13aa-9765-48e0-921d-bdb3ea354a1d"
      },
      "execution_count": 21,
      "outputs": [
        {
          "output_type": "stream",
          "name": "stdout",
          "text": [
            "/content/drive/MyDrive/MongoDB_connectionstring\n"
          ]
        }
      ]
    },
    {
      "cell_type": "code",
      "source": [
        "# function definition for connection with repository\n",
        "def get_database():\n",
        "   # Provide the mongodb atlas url to connect python to mongodb using pymongo\n",
        "   CONNECTION_STRING = connection_string\n",
        "\n",
        "   # Create a connection using MongoClient. You can import MongoClient or use pymongo.MongoClient\n",
        "   client = MongoClient(CONNECTION_STRING,connect=False)\n",
        "\n",
        "   # Create the database for our example (we will use the same database throughout the tutorial\n",
        "   return client['googlesheetsdb']"
      ],
      "metadata": {
        "id": "cik29XrFKiTn"
      },
      "execution_count": 36,
      "outputs": []
    },
    {
      "cell_type": "code",
      "source": [
        "# This is added so that many files can reuse the function get_database()\n",
        "if __name__ == \"__main__\":\n",
        "\n",
        "   # Get the database\n",
        "   googlesheetsdb = get_database()\n",
        "\n",
        "ShopifyOrders = googlesheetsdb[\"Shopify_Orders\"]\n",
        "\n",
        "item_details = ShopifyOrders.find()\n"
      ],
      "metadata": {
        "id": "ZClhWFQoLC_-"
      },
      "execution_count": 37,
      "outputs": []
    },
    {
      "cell_type": "code",
      "source": [
        "#Mongo DB Aggregate-Pipeline\n",
        "pipeline=[\n",
        "    {\n",
        "        '$unwind': {\n",
        "            'path': '$line_items'\n",
        "        }\n",
        "    }, {\n",
        "        '$project': {\n",
        "            'order_name': '$name',\n",
        "            'cancelled_at': '$cancelled_at',\n",
        "            'created_at': '$created_at',\n",
        "            'customer_id': '$customer.id',\n",
        "            'customer_first_name': '$customer.first_name',\n",
        "            'customer_last_name': '$customer.last_name',\n",
        "            'customer_email': '$customer.email',\n",
        "            'order_fulfillment_status': '$fulfillment_status',\n",
        "            'financial_status': '$financial_status',\n",
        "            'current_total_price': '$current_total_price',\n",
        "            'line_fulfillment_status': '$line_items.fulfillment_status',\n",
        "            'product_name': '$line_items.name',\n",
        "            'line_item_id': '$line_items.id',\n",
        "            'sku': '$line_items.sku',\n",
        "            'product_price': '$line_items.price',\n",
        "            'discount': '$line_items.total_discount',\n",
        "            'vendor': '$line_items.vendor',\n",
        "            'quantity': '$line_items.quantity',\n",
        "            'total_price_usd': '$total_price',\n",
        "            'total_order_discounts': '$total_discounts',\n",
        "            'shipping_address': '$shipping_address.address1',\n",
        "            'shipping_province': '$shipping_address.province',\n",
        "            'shipping_latitude': '$shipping_address.latitude',\n",
        "            'shipping_longitude': '$shipping_address.longitude',\n",
        "            'shipping_zip': '$shipping_address.zip',\n",
        "            'shipping_province_code': '$shipping_address.province_code',\n",
        "            'shipping_city': '$shipping_address.city',\n",
        "            'shipping_country_code': '$shipping_address.country_code',\n",
        "            'tags': '$tags'\n",
        "        }\n",
        "    }\n",
        "]\n"
      ],
      "metadata": {
        "id": "o5_sX2WELfk4"
      },
      "execution_count": 38,
      "outputs": []
    },
    {
      "cell_type": "markdown",
      "source": [
        "Next we apply the aggregate pipeline and print the results. The data is ready for further manipulation\n",
        ""
      ],
      "metadata": {
        "id": "MhC5Es3KVfAS"
      }
    },
    {
      "cell_type": "code",
      "source": [
        "results =ShopifyOrders.aggregate(pipeline)\n",
        "\n",
        "results_df=DataFrame(results)\n",
        "print(results_df)\n"
      ],
      "metadata": {
        "colab": {
          "base_uri": "https://localhost:8080/"
        },
        "id": "me3gsrMcLmG_",
        "outputId": "4cc22e98-8977-4823-9e87-82c6cac04543"
      },
      "execution_count": 39,
      "outputs": [
        {
          "output_type": "stream",
          "name": "stdout",
          "text": [
            "                            _id order_name               cancelled_at  \\\n",
            "0      62838d16c4753a6af839e136  #VFM50280                       None   \n",
            "1      62838d16c4753a6af839e137  #VFM50279                       None   \n",
            "2      62838d16c4753a6af839e138  #VFM50278                       None   \n",
            "3      62838d16c4753a6af839e139  #VFM50277                       None   \n",
            "4      62838d16c4753a6af839e13a  #VFM50276  2022-05-17T15:30:36-10:00   \n",
            "...                         ...        ...                        ...   \n",
            "81155  6371cc04090c9f0a0f8f53ea  #VFM53503  2022-11-14T13:25:07-08:00   \n",
            "81156  6371cc04090c9f0a0f8f53ea  #VFM53503  2022-11-14T13:25:07-08:00   \n",
            "81157  63b72808556c3583e673b4d5  #VFM53504                       None   \n",
            "81158  63b72cf4556c3583e674335d  #VFM53505                       None   \n",
            "81159  63caeff02b790616f7a401bb  #VFM53506                       None   \n",
            "\n",
            "                      created_at   customer_id customer_first_name  \\\n",
            "0      2022-05-17T03:47:54-07:00  6.079498e+12               Sarah   \n",
            "1      2022-05-17T03:21:39-07:00  6.098861e+12             Ariauna   \n",
            "2      2022-05-16T22:12:22-10:00  6.093924e+12              Tomas    \n",
            "3      2022-05-16T22:03:43-10:00  5.905128e+12            Charlene   \n",
            "4      2022-05-16T20:49:47-10:00  6.098359e+12             Kennedy   \n",
            "...                          ...           ...                 ...   \n",
            "81155  2022-11-13T21:01:06-08:00           NaN                 NaN   \n",
            "81156  2022-11-13T21:01:06-08:00           NaN                 NaN   \n",
            "81157  2023-01-05T11:40:37-08:00  5.241525e+12             Latania   \n",
            "81158  2023-01-05T12:01:52-08:00  5.857271e+12            Virginia   \n",
            "81159  2023-01-20T11:45:46-08:00  6.071592e+12             Huseyin   \n",
            "\n",
            "      customer_last_name            customer_email order_fulfillment_status  \\\n",
            "0              Westbrook         sarw3st@gmail.com                fulfilled   \n",
            "1                  Brown  ariaunabrown13@gmail.com                fulfilled   \n",
            "2             Carvalhosa       tomasltco@gmail.com                fulfilled   \n",
            "3                  Perez        char6184@gmail.com                fulfilled   \n",
            "4                   Nock     kennedy1295@gmail.com                     None   \n",
            "...                  ...                       ...                      ...   \n",
            "81155                NaN                       NaN                     None   \n",
            "81156                NaN                       NaN                     None   \n",
            "81157          Mollineau      lmollineau@gmail.com                fulfilled   \n",
            "81158           Harrison  harb@gulliverschools.org                fulfilled   \n",
            "81159              Polat    huseyinpolat@gmail.com                fulfilled   \n",
            "\n",
            "      financial_status  ... total_order_discounts          shipping_address  \\\n",
            "0                 paid  ...                  0.00           910 West Avenue   \n",
            "1                 paid  ...                 50.00       1501 Valley Parkway   \n",
            "2                 paid  ...                139.99    440 K Street Northwest   \n",
            "3                 paid  ...                 50.00        777 Morrell Avenue   \n",
            "4             refunded  ...                 50.00  165 West Superior Street   \n",
            "...                ...  ...                   ...                       ...   \n",
            "81155             paid  ...              39953.14                       NaN   \n",
            "81156             paid  ...              39953.14                       NaN   \n",
            "81157             paid  ...                  0.00      345 webster avenue,    \n",
            "81158             paid  ...                  0.00        430 Minorca Avenue   \n",
            "81159             paid  ...                  0.00       1888 Morro Vista Dr   \n",
            "\n",
            "          shipping_province  shipping_latitude shipping_longitude  \\\n",
            "0                   Florida          25.779500         -80.142613   \n",
            "1                  Oklahoma          36.323012         -95.626451   \n",
            "2      District of Columbia          38.902216         -77.017254   \n",
            "3                California          37.586607        -122.351181   \n",
            "4                  Illinois          41.895394         -87.633537   \n",
            "...                     ...                ...                ...   \n",
            "81155                   NaN                NaN                NaN   \n",
            "81156                   NaN                NaN                NaN   \n",
            "81157              New York          40.633991         -73.968907   \n",
            "81158               Florida          25.753049         -80.264127   \n",
            "81159                Nevada          36.152299        -115.339054   \n",
            "\n",
            "      shipping_zip shipping_province_code shipping_city  \\\n",
            "0            33139                     FL   Miami Beach   \n",
            "1            74017                     OK     Claremore   \n",
            "2            20001                     DC    Washington   \n",
            "3            94010                     CA    Burlingame   \n",
            "4            60654                     IL       Chicago   \n",
            "...            ...                    ...           ...   \n",
            "81155          NaN                    NaN           NaN   \n",
            "81156          NaN                    NaN           NaN   \n",
            "81157        11230                     NY      Brooklyn   \n",
            "81158        33134                     FL  Coral Gables   \n",
            "81159        89135                     NV     Las Vegas   \n",
            "\n",
            "       shipping_country_code  \\\n",
            "0                         US   \n",
            "1                         US   \n",
            "2                         US   \n",
            "3                         US   \n",
            "4                         US   \n",
            "...                      ...   \n",
            "81155                    NaN   \n",
            "81156                    NaN   \n",
            "81157                     US   \n",
            "81158                     US   \n",
            "81159                     US   \n",
            "\n",
            "                                                    tags  \n",
            "0                      Feathers Supplier:Mexico(Artaban)  \n",
            "1                      Feathers Supplier:Mexico(Artaban)  \n",
            "2                                     MariaS, S11, Tidio  \n",
            "3                              CIGO - CUSTOMER SATISFIED  \n",
            "4                                                         \n",
            "...                                                  ...  \n",
            "81155  cigo-import-fail, Las Vegas, Las Vegas show ro...  \n",
            "81156  cigo-import-fail, Las Vegas, Las Vegas show ro...  \n",
            "81157                                           Warranty  \n",
            "81158                                           Warranty  \n",
            "81159                                   cigo-import-fail  \n",
            "\n",
            "[81160 rows x 30 columns]\n"
          ]
        }
      ]
    },
    {
      "cell_type": "code",
      "source": [],
      "metadata": {
        "id": "eg5UOylZLyJx"
      },
      "execution_count": null,
      "outputs": []
    }
  ]
}